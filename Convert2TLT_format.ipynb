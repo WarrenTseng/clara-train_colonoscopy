{
 "cells": [
  {
   "cell_type": "markdown",
   "metadata": {},
   "source": [
    "## Create folders for TLT"
   ]
  },
  {
   "cell_type": "code",
   "execution_count": null,
   "metadata": {},
   "outputs": [],
   "source": [
    "!mkdir -p Kvasir-SEG_TLT/images/train\n",
    "!mkdir -p Kvasir-SEG_TLT/images/val\n",
    "!mkdir -p Kvasir-SEG_TLT/images/test\n",
    "!mkdir -p Kvasir-SEG_TLT/masks/train\n",
    "!mkdir -p Kvasir-SEG_TLT/masks/val"
   ]
  },
  {
   "cell_type": "markdown",
   "metadata": {},
   "source": [
    "## Import libs"
   ]
  },
  {
   "cell_type": "code",
   "execution_count": null,
   "metadata": {},
   "outputs": [],
   "source": [
    "import matplotlib.pyplot as plt\n",
    "from os import listdir\n",
    "import numpy as np\n",
    "import cv2"
   ]
  },
  {
   "cell_type": "markdown",
   "metadata": {},
   "source": [
    "## Define source&target of image&mask paths"
   ]
  },
  {
   "cell_type": "code",
   "execution_count": null,
   "metadata": {},
   "outputs": [],
   "source": [
    "path_m = 'Kvasir-SEG/masks/'\n",
    "path_im = 'Kvasir-SEG/images/'\n",
    "target_m = 'Kvasir-SEG_TLT/masks/'\n",
    "target_im = 'Kvasir-SEG_TLT/images/'\n",
    "fnames = [f for f in listdir(path_m) if '.jpg' in f]\n",
    "len(fnames)"
   ]
  },
  {
   "cell_type": "markdown",
   "metadata": {},
   "source": [
    "## Convert to png and save to target paths"
   ]
  },
  {
   "cell_type": "code",
   "execution_count": null,
   "metadata": {},
   "outputs": [],
   "source": [
    "split = 800\n",
    "for i, f in enumerate(fnames):\n",
    "    if i>=split:\n",
    "        folder = 'val/'\n",
    "    else:\n",
    "        folder = 'train/'\n",
    "    # generate fname\n",
    "    fname_new = str(i+1)\n",
    "    for j in range(4-len(fname_new)):\n",
    "        fname_new = '0'+fname_new\n",
    "    fname_new = fname_new+'.png'\n",
    "    # save img\n",
    "    im = plt.imread(path_im+f)\n",
    "    im = cv2.cvtColor(im, cv2.COLOR_RGB2BGR)\n",
    "    cv2.imwrite(target_im+folder+fname_new, im)\n",
    "    # save mask\n",
    "    m = plt.imread(path_m+f)\n",
    "    m = np.where(m.mean(axis=2)>50, 1, 0)\n",
    "    cv2.imwrite(target_m+folder+fname_new, m)"
   ]
  },
  {
   "cell_type": "markdown",
   "metadata": {},
   "source": [
    "## Zipping the folder"
   ]
  },
  {
   "cell_type": "code",
   "execution_count": null,
   "metadata": {
    "scrolled": true
   },
   "outputs": [],
   "source": [
    "!zip -r Kvasir-SEG_TLT.zip Kvasir-SEG_TLT"
   ]
  },
  {
   "cell_type": "code",
   "execution_count": null,
   "metadata": {},
   "outputs": [],
   "source": []
  },
  {
   "cell_type": "code",
   "execution_count": 1,
   "metadata": {},
   "outputs": [],
   "source": [
    "import os"
   ]
  },
  {
   "cell_type": "code",
   "execution_count": 2,
   "metadata": {},
   "outputs": [
    {
     "data": {
      "text/plain": [
       "'Kvasir-SEG/images'"
      ]
     },
     "execution_count": 2,
     "metadata": {},
     "output_type": "execute_result"
    }
   ],
   "source": [
    "os.path.join('Kvasir-SEG', \"images\")"
   ]
  },
  {
   "cell_type": "code",
   "execution_count": null,
   "metadata": {},
   "outputs": [],
   "source": []
  }
 ],
 "metadata": {
  "kernelspec": {
   "display_name": "Python 3",
   "language": "python",
   "name": "python3"
  },
  "language_info": {
   "codemirror_mode": {
    "name": "ipython",
    "version": 3
   },
   "file_extension": ".py",
   "mimetype": "text/x-python",
   "name": "python",
   "nbconvert_exporter": "python",
   "pygments_lexer": "ipython3",
   "version": "3.6.9"
  }
 },
 "nbformat": 4,
 "nbformat_minor": 5
}
