{
 "cells": [
  {
   "cell_type": "markdown",
   "metadata": {},
   "source": [
    "### Start your AIAA server on terminal\n",
    "start_aas.sh --workspace=/path/to/your/aiaa/workspace"
   ]
  },
  {
   "cell_type": "markdown",
   "metadata": {},
   "source": [
    "### Upload the model\n",
    "Pre-trained model and samples: https://drive.google.com/drive/folders/1tzhRU7NwQqC1bgvJK7NndMZmgTp7ihyM?usp=sharing </br>\n",
    "(The sample images are from Kvair-SEG dataset)"
   ]
  },
  {
   "cell_type": "code",
   "execution_count": null,
   "metadata": {},
   "outputs": [],
   "source": [
    "!curl -X PUT http://localhost/admin/model/colonoscopy \\ \n",
    "      -F data=@/path/to/your/model \\\n",
    "      -F config=@/path/to/config_aiaa.json"
   ]
  },
  {
   "cell_type": "markdown",
   "metadata": {},
   "source": [
    "### Check the model list"
   ]
  },
  {
   "cell_type": "code",
   "execution_count": 2,
   "metadata": {},
   "outputs": [
    {
     "name": "stdout",
     "output_type": "stream",
     "text": [
      "[]"
     ]
    }
   ],
   "source": [
    "!curl -X GET http://localhost/v1/models"
   ]
  },
  {
   "cell_type": "markdown",
   "metadata": {},
   "source": [
    "### Get more info about the uploaded model"
   ]
  },
  {
   "cell_type": "code",
   "execution_count": null,
   "metadata": {},
   "outputs": [],
   "source": [
    "!curl -X GET http://localhost/admin/model/colonoscopy"
   ]
  },
  {
   "cell_type": "markdown",
   "metadata": {},
   "source": [
    "### Send request to the AIAA server and get result\n",
    "Reference: https://docs.nvidia.com/clara/clara-train-archive/3.1/aiaa/server_apis.html"
   ]
  },
  {
   "cell_type": "code",
   "execution_count": null,
   "metadata": {},
   "outputs": [],
   "source": [
    "!curl -X POST \"http://localhost/v1/segmentation?model=colonoscopy&output=image\" \\\n",
    "      -H \"accept: multipart/form-data\" \\\n",
    "      -H \"Content-Type: multipart/form-data\" \\\n",
    "      -F \"params={}\" \\\n",
    "      -F \"image=@sample1.png\" \\\n",
    "      -o result.png"
   ]
  },
  {
   "cell_type": "code",
   "execution_count": null,
   "metadata": {},
   "outputs": [],
   "source": []
  }
 ],
 "metadata": {
  "kernelspec": {
   "display_name": "Python 3",
   "language": "python",
   "name": "python3"
  },
  "language_info": {
   "codemirror_mode": {
    "name": "ipython",
    "version": 3
   },
   "file_extension": ".py",
   "mimetype": "text/x-python",
   "name": "python",
   "nbconvert_exporter": "python",
   "pygments_lexer": "ipython3",
   "version": "3.6.9"
  }
 },
 "nbformat": 4,
 "nbformat_minor": 4
}
